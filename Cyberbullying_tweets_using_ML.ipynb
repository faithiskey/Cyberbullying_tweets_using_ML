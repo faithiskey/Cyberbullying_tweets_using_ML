{
 "cells": [
  {
   "cell_type": "code",
   "execution_count": 5,
   "id": "a1abce07-9a99-4ed4-8c0c-db6999812231",
   "metadata": {},
   "outputs": [],
   "source": [
    "import pandas as pd\n",
    "import numpy as np\n",
    "import matplotlib.pyplot as plt\n",
    "import seaborn as sns\n",
    "\n",
    "plt.style.use('ggplot')\n",
    "\n",
    "import nltk\n"
   ]
  },
  {
   "cell_type": "code",
   "execution_count": 30,
   "id": "acdbc50d-3175-4093-8d95-00c078c3dc91",
   "metadata": {},
   "outputs": [
    {
     "data": {
      "text/html": [
       "<div>\n",
       "<style scoped>\n",
       "    .dataframe tbody tr th:only-of-type {\n",
       "        vertical-align: middle;\n",
       "    }\n",
       "\n",
       "    .dataframe tbody tr th {\n",
       "        vertical-align: top;\n",
       "    }\n",
       "\n",
       "    .dataframe thead th {\n",
       "        text-align: right;\n",
       "    }\n",
       "</style>\n",
       "<table border=\"1\" class=\"dataframe\">\n",
       "  <thead>\n",
       "    <tr style=\"text-align: right;\">\n",
       "      <th></th>\n",
       "      <th>tweet_text</th>\n",
       "      <th>cyberbullying_type</th>\n",
       "    </tr>\n",
       "  </thead>\n",
       "  <tbody>\n",
       "    <tr>\n",
       "      <th>0</th>\n",
       "      <td>In other words #katandandre, your food was cra...</td>\n",
       "      <td>not_cyberbullying</td>\n",
       "    </tr>\n",
       "    <tr>\n",
       "      <th>1</th>\n",
       "      <td>Why is #aussietv so white? #MKR #theblock #ImA...</td>\n",
       "      <td>not_cyberbullying</td>\n",
       "    </tr>\n",
       "    <tr>\n",
       "      <th>2</th>\n",
       "      <td>@XochitlSuckkks a classy whore? Or more red ve...</td>\n",
       "      <td>not_cyberbullying</td>\n",
       "    </tr>\n",
       "    <tr>\n",
       "      <th>3</th>\n",
       "      <td>@Jason_Gio meh. :P  thanks for the heads up, b...</td>\n",
       "      <td>not_cyberbullying</td>\n",
       "    </tr>\n",
       "    <tr>\n",
       "      <th>4</th>\n",
       "      <td>@RudhoeEnglish This is an ISIS account pretend...</td>\n",
       "      <td>not_cyberbullying</td>\n",
       "    </tr>\n",
       "    <tr>\n",
       "      <th>...</th>\n",
       "      <td>...</td>\n",
       "      <td>...</td>\n",
       "    </tr>\n",
       "    <tr>\n",
       "      <th>47687</th>\n",
       "      <td>Black ppl aren't expected to do anything, depe...</td>\n",
       "      <td>ethnicity</td>\n",
       "    </tr>\n",
       "    <tr>\n",
       "      <th>47688</th>\n",
       "      <td>Turner did not withhold his disappointment. Tu...</td>\n",
       "      <td>ethnicity</td>\n",
       "    </tr>\n",
       "    <tr>\n",
       "      <th>47689</th>\n",
       "      <td>I swear to God. This dumb nigger bitch. I have...</td>\n",
       "      <td>ethnicity</td>\n",
       "    </tr>\n",
       "    <tr>\n",
       "      <th>47690</th>\n",
       "      <td>Yea fuck you RT @therealexel: IF YOURE A NIGGE...</td>\n",
       "      <td>ethnicity</td>\n",
       "    </tr>\n",
       "    <tr>\n",
       "      <th>47691</th>\n",
       "      <td>Bro. U gotta chill RT @CHILLShrammy: Dog FUCK ...</td>\n",
       "      <td>ethnicity</td>\n",
       "    </tr>\n",
       "  </tbody>\n",
       "</table>\n",
       "<p>47692 rows × 2 columns</p>\n",
       "</div>"
      ],
      "text/plain": [
       "                                              tweet_text cyberbullying_type\n",
       "0      In other words #katandandre, your food was cra...  not_cyberbullying\n",
       "1      Why is #aussietv so white? #MKR #theblock #ImA...  not_cyberbullying\n",
       "2      @XochitlSuckkks a classy whore? Or more red ve...  not_cyberbullying\n",
       "3      @Jason_Gio meh. :P  thanks for the heads up, b...  not_cyberbullying\n",
       "4      @RudhoeEnglish This is an ISIS account pretend...  not_cyberbullying\n",
       "...                                                  ...                ...\n",
       "47687  Black ppl aren't expected to do anything, depe...          ethnicity\n",
       "47688  Turner did not withhold his disappointment. Tu...          ethnicity\n",
       "47689  I swear to God. This dumb nigger bitch. I have...          ethnicity\n",
       "47690  Yea fuck you RT @therealexel: IF YOURE A NIGGE...          ethnicity\n",
       "47691  Bro. U gotta chill RT @CHILLShrammy: Dog FUCK ...          ethnicity\n",
       "\n",
       "[47692 rows x 2 columns]"
      ]
     },
     "execution_count": 30,
     "metadata": {},
     "output_type": "execute_result"
    }
   ],
   "source": [
    "pd.read_csv(r\"C:\\Users\\HP\\Documents\\cyberbullying_tweets.csv\")"
   ]
  },
  {
   "cell_type": "code",
   "execution_count": 31,
   "id": "25b5b84d-89bd-4b0d-93eb-15c3a7ba2478",
   "metadata": {},
   "outputs": [],
   "source": [
    "df=pd.read_csv(r\"C:\\Users\\HP\\Documents\\cyberbullying_tweets.csv\")"
   ]
  },
  {
   "cell_type": "code",
   "execution_count": 32,
   "id": "36b764b0-e9c9-40a5-b095-8b466885a7f2",
   "metadata": {},
   "outputs": [],
   "source": [
    "df = df.head(500)"
   ]
  },
  {
   "cell_type": "code",
   "execution_count": 33,
   "id": "5feb0972-75f2-49dc-a423-c0c53ab17f49",
   "metadata": {},
   "outputs": [
    {
     "data": {
      "text/html": [
       "<div>\n",
       "<style scoped>\n",
       "    .dataframe tbody tr th:only-of-type {\n",
       "        vertical-align: middle;\n",
       "    }\n",
       "\n",
       "    .dataframe tbody tr th {\n",
       "        vertical-align: top;\n",
       "    }\n",
       "\n",
       "    .dataframe thead th {\n",
       "        text-align: right;\n",
       "    }\n",
       "</style>\n",
       "<table border=\"1\" class=\"dataframe\">\n",
       "  <thead>\n",
       "    <tr style=\"text-align: right;\">\n",
       "      <th></th>\n",
       "      <th>tweet_text</th>\n",
       "      <th>cyberbullying_type</th>\n",
       "    </tr>\n",
       "  </thead>\n",
       "  <tbody>\n",
       "    <tr>\n",
       "      <th>0</th>\n",
       "      <td>In other words #katandandre, your food was cra...</td>\n",
       "      <td>not_cyberbullying</td>\n",
       "    </tr>\n",
       "    <tr>\n",
       "      <th>1</th>\n",
       "      <td>Why is #aussietv so white? #MKR #theblock #ImA...</td>\n",
       "      <td>not_cyberbullying</td>\n",
       "    </tr>\n",
       "    <tr>\n",
       "      <th>2</th>\n",
       "      <td>@XochitlSuckkks a classy whore? Or more red ve...</td>\n",
       "      <td>not_cyberbullying</td>\n",
       "    </tr>\n",
       "    <tr>\n",
       "      <th>3</th>\n",
       "      <td>@Jason_Gio meh. :P  thanks for the heads up, b...</td>\n",
       "      <td>not_cyberbullying</td>\n",
       "    </tr>\n",
       "    <tr>\n",
       "      <th>4</th>\n",
       "      <td>@RudhoeEnglish This is an ISIS account pretend...</td>\n",
       "      <td>not_cyberbullying</td>\n",
       "    </tr>\n",
       "    <tr>\n",
       "      <th>...</th>\n",
       "      <td>...</td>\n",
       "      <td>...</td>\n",
       "    </tr>\n",
       "    <tr>\n",
       "      <th>495</th>\n",
       "      <td>Nunca faça bullying, por que quando aquela pes...</td>\n",
       "      <td>not_cyberbullying</td>\n",
       "    </tr>\n",
       "    <tr>\n",
       "      <th>496</th>\n",
       "      <td>Someone posted this on facebook in response to...</td>\n",
       "      <td>not_cyberbullying</td>\n",
       "    </tr>\n",
       "    <tr>\n",
       "      <th>497</th>\n",
       "      <td>@DineshDSouza @nobigotry In fact, Morgan does ...</td>\n",
       "      <td>not_cyberbullying</td>\n",
       "    </tr>\n",
       "    <tr>\n",
       "      <th>498</th>\n",
       "      <td>Bradford team has 6 debuts: Hansen Flynn Brans...</td>\n",
       "      <td>not_cyberbullying</td>\n",
       "    </tr>\n",
       "    <tr>\n",
       "      <th>499</th>\n",
       "      <td>@ChuckPfarrer And after each of those events P...</td>\n",
       "      <td>not_cyberbullying</td>\n",
       "    </tr>\n",
       "  </tbody>\n",
       "</table>\n",
       "<p>500 rows × 2 columns</p>\n",
       "</div>"
      ],
      "text/plain": [
       "                                            tweet_text cyberbullying_type\n",
       "0    In other words #katandandre, your food was cra...  not_cyberbullying\n",
       "1    Why is #aussietv so white? #MKR #theblock #ImA...  not_cyberbullying\n",
       "2    @XochitlSuckkks a classy whore? Or more red ve...  not_cyberbullying\n",
       "3    @Jason_Gio meh. :P  thanks for the heads up, b...  not_cyberbullying\n",
       "4    @RudhoeEnglish This is an ISIS account pretend...  not_cyberbullying\n",
       "..                                                 ...                ...\n",
       "495  Nunca faça bullying, por que quando aquela pes...  not_cyberbullying\n",
       "496  Someone posted this on facebook in response to...  not_cyberbullying\n",
       "497  @DineshDSouza @nobigotry In fact, Morgan does ...  not_cyberbullying\n",
       "498  Bradford team has 6 debuts: Hansen Flynn Brans...  not_cyberbullying\n",
       "499  @ChuckPfarrer And after each of those events P...  not_cyberbullying\n",
       "\n",
       "[500 rows x 2 columns]"
      ]
     },
     "execution_count": 33,
     "metadata": {},
     "output_type": "execute_result"
    }
   ],
   "source": [
    "df"
   ]
  },
  {
   "cell_type": "code",
   "execution_count": 34,
   "id": "242e65f7-581c-41de-87c9-ce08c4719665",
   "metadata": {},
   "outputs": [
    {
     "data": {
      "text/plain": [
       "(500, 2)"
      ]
     },
     "execution_count": 34,
     "metadata": {},
     "output_type": "execute_result"
    }
   ],
   "source": [
    "df.shape\n"
   ]
  },
  {
   "cell_type": "code",
   "execution_count": 35,
   "id": "775fdb82-6e12-4a73-b5ea-ea192773aa41",
   "metadata": {},
   "outputs": [
    {
     "data": {
      "text/plain": [
       "0      In other words #katandandre, your food was cra...\n",
       "1      Why is #aussietv so white? #MKR #theblock #ImA...\n",
       "2      @XochitlSuckkks a classy whore? Or more red ve...\n",
       "3      @Jason_Gio meh. :P  thanks for the heads up, b...\n",
       "4      @RudhoeEnglish This is an ISIS account pretend...\n",
       "                             ...                        \n",
       "495    Nunca faça bullying, por que quando aquela pes...\n",
       "496    Someone posted this on facebook in response to...\n",
       "497    @DineshDSouza @nobigotry In fact, Morgan does ...\n",
       "498    Bradford team has 6 debuts: Hansen Flynn Brans...\n",
       "499    @ChuckPfarrer And after each of those events P...\n",
       "Name: tweet_text, Length: 500, dtype: object"
      ]
     },
     "execution_count": 35,
     "metadata": {},
     "output_type": "execute_result"
    }
   ],
   "source": [
    "df['tweet_text']"
   ]
  },
  {
   "cell_type": "code",
   "execution_count": 36,
   "id": "6c7b799e-ae90-4570-b606-8e0d8418622c",
   "metadata": {},
   "outputs": [
    {
     "data": {
      "text/plain": [
       "'In other words #katandandre, your food was crapilicious! #mkr'"
      ]
     },
     "execution_count": 36,
     "metadata": {},
     "output_type": "execute_result"
    }
   ],
   "source": [
    "df['tweet_text'].values[0]"
   ]
  },
  {
   "cell_type": "code",
   "execution_count": 37,
   "id": "d9a00626-a4a4-4ddb-b55e-c1401c492558",
   "metadata": {},
   "outputs": [
    {
     "data": {
      "text/plain": [
       "0      not_cyberbullying\n",
       "1      not_cyberbullying\n",
       "2      not_cyberbullying\n",
       "3      not_cyberbullying\n",
       "4      not_cyberbullying\n",
       "             ...        \n",
       "495    not_cyberbullying\n",
       "496    not_cyberbullying\n",
       "497    not_cyberbullying\n",
       "498    not_cyberbullying\n",
       "499    not_cyberbullying\n",
       "Name: cyberbullying_type, Length: 500, dtype: object"
      ]
     },
     "execution_count": 37,
     "metadata": {},
     "output_type": "execute_result"
    }
   ],
   "source": [
    "df['cyberbullying_type']"
   ]
  },
  {
   "cell_type": "code",
   "execution_count": 38,
   "id": "6cda78a5-8ff8-407e-993a-b7c3e488e45c",
   "metadata": {},
   "outputs": [],
   "source": [
    "# Counting the occurrences of each cyberbullying type\n",
    "counts = df['cyberbullying_type'].value_counts()\n"
   ]
  },
  {
   "cell_type": "code",
   "execution_count": 39,
   "id": "b64effe6-d84c-45f0-92e2-1ff61ff47ab1",
   "metadata": {},
   "outputs": [
    {
     "data": {
      "image/png": "[encoded data removed]",
      "text/plain": [
       "<Figure size 1000x600 with 1 Axes>"
      ]
     },
     "metadata": {},
     "output_type": "display_data"
    }
   ],
   "source": [
    "# Plot a bar chart\n",
    "plt.figure(figsize=(10, 6))\n",
    "sns.barplot(x=counts.index, y=counts.values)\n",
    "plt.title('Cyberbullying Type Distribution')\n",
    "plt.xlabel('Cyberbullying Type')\n",
    "plt.ylabel('Count')\n",
    "plt.show()"
   ]
  },
  {
   "cell_type": "code",
   "execution_count": 40,
   "id": "be5ba1f1-121a-4027-8e5a-1cb3c3c2df21",
   "metadata": {},
   "outputs": [
    {
     "name": "stderr",
     "output_type": "stream",
     "text": [
      "[nltk_data] Downloading package vader_lexicon to\n",
      "[nltk_data]     C:\\Users\\HP\\AppData\\Roaming\\nltk_data...\n",
      "[nltk_data]   Package vader_lexicon is already up-to-date!\n",
      "[nltk_data] Downloading package punkt to\n",
      "[nltk_data]     C:\\Users\\HP\\AppData\\Roaming\\nltk_data...\n",
      "[nltk_data]   Package punkt is already up-to-date!\n"
     ]
    },
    {
     "data": {
      "text/plain": [
       "True"
      ]
     },
     "execution_count": 40,
     "metadata": {},
     "output_type": "execute_result"
    }
   ],
   "source": [
    "nltk.download('vader_lexicon')\n",
    "nltk.download('punkt')\n"
   ]
  },
  {
   "cell_type": "code",
   "execution_count": 42,
   "id": "5fb890ab-b088-4ae2-88e3-31973ac54711",
   "metadata": {},
   "outputs": [
    {
     "name": "stdout",
     "output_type": "stream",
     "text": [
      "@Giia_marengo le hace bulling a @Karol__Dance por que se \"gana\" en todos lados jajajaj y dice que los washiturros NO son flaites jajaj WENA\n"
     ]
    }
   ],
   "source": [
    "example = df['tweet_text'][50]\n",
    "print(example)"
   ]
  },
  {
   "cell_type": "code",
   "execution_count": 43,
   "id": "2e0ed2ca-ad6f-4ecc-9775-b6d75bd6845d",
   "metadata": {},
   "outputs": [
    {
     "data": {
      "text/plain": [
       "['@',\n",
       " 'Giia_marengo',\n",
       " 'le',\n",
       " 'hace',\n",
       " 'bulling',\n",
       " 'a',\n",
       " '@',\n",
       " 'Karol__Dance',\n",
       " 'por',\n",
       " 'que',\n",
       " 'se',\n",
       " '``',\n",
       " 'gana',\n",
       " \"''\",\n",
       " 'en',\n",
       " 'todos',\n",
       " 'lados',\n",
       " 'jajajaj',\n",
       " 'y',\n",
       " 'dice',\n",
       " 'que',\n",
       " 'los',\n",
       " 'washiturros',\n",
       " 'NO',\n",
       " 'son',\n",
       " 'flaites',\n",
       " 'jajaj',\n",
       " 'WENA']"
      ]
     },
     "execution_count": 43,
     "metadata": {},
     "output_type": "execute_result"
    }
   ],
   "source": [
    "nltk.word_tokenize(example)\n"
   ]
  },
  {
   "cell_type": "code",
   "execution_count": 44,
   "id": "8b380455-0dda-469b-9248-8ee8599e3966",
   "metadata": {},
   "outputs": [
    {
     "data": {
      "text/plain": [
       "['@',\n",
       " 'Giia_marengo',\n",
       " 'le',\n",
       " 'hace',\n",
       " 'bulling',\n",
       " 'a',\n",
       " '@',\n",
       " 'Karol__Dance',\n",
       " 'por',\n",
       " 'que']"
      ]
     },
     "execution_count": 44,
     "metadata": {},
     "output_type": "execute_result"
    }
   ],
   "source": [
    "tokens = nltk.word_tokenize(example)\n",
    "tokens[:10]"
   ]
  },
  {
   "cell_type": "code",
   "execution_count": 46,
   "id": "abc710cf-bb90-4f99-9793-6f0617f1de98",
   "metadata": {},
   "outputs": [
    {
     "name": "stderr",
     "output_type": "stream",
     "text": [
      "[nltk_data] Downloading package vader_lexicon to\n",
      "[nltk_data]     C:\\Users\\HP\\AppData\\Roaming\\nltk_data...\n",
      "[nltk_data]   Package vader_lexicon is already up-to-date!\n"
     ]
    }
   ],
   "source": [
    "from nltk.sentiment import SentimentIntensityAnalyzer\n",
    "from tqdm.notebook import tqdm\n",
    "nltk.download('vader_lexicon')\n",
    "\n",
    "sia = SentimentIntensityAnalyzer()"
   ]
  },
  {
   "cell_type": "code",
   "execution_count": 47,
   "id": "63578578-454f-42a4-bb6d-1f058c2a84d4",
   "metadata": {},
   "outputs": [
    {
     "data": {
      "text/plain": [
       "{'neg': 0.053, 'neu': 0.707, 'pos': 0.239, 'compound': 0.7814}"
      ]
     },
     "execution_count": 47,
     "metadata": {},
     "output_type": "execute_result"
    }
   ],
   "source": [
    "sia.polarity_scores('There are moments when I wish I could roll back the clock and take all the sadness away, but I have the feeling that if I did, the joy would be gone as wel')"
   ]
  },
  {
   "cell_type": "code",
   "execution_count": 48,
   "id": "5ef9a00c-354c-425a-8a89-7e2fffe2712c",
   "metadata": {},
   "outputs": [
    {
     "data": {
      "text/plain": [
       "{'neg': 0.451, 'neu': 0.549, 'pos': 0.0, 'compound': -0.6249}"
      ]
     },
     "execution_count": 48,
     "metadata": {},
     "output_type": "execute_result"
    }
   ],
   "source": [
    "sia.polarity_scores('This is the worst thing ever.')"
   ]
  },
  {
   "cell_type": "code",
   "execution_count": 49,
   "id": "45372a6a-48a6-405e-bf4e-13681f9c9e88",
   "metadata": {},
   "outputs": [
    {
     "data": {
      "text/plain": [
       "'@Giia_marengo le hace bulling a @Karol__Dance por que se \"gana\" en todos lados jajajaj y dice que los washiturros NO son flaites jajaj WENA'"
      ]
     },
     "execution_count": 49,
     "metadata": {},
     "output_type": "execute_result"
    }
   ],
   "source": [
    "example"
   ]
  },
  {
   "cell_type": "code",
   "execution_count": 50,
   "id": "0e6eca0f-efe1-464d-8f0c-ea5d8ac6771f",
   "metadata": {},
   "outputs": [
    {
     "data": {
      "text/plain": [
       "{'neg': 0.123, 'neu': 0.877, 'pos': 0.0, 'compound': -0.4466}"
      ]
     },
     "execution_count": 50,
     "metadata": {},
     "output_type": "execute_result"
    }
   ],
   "source": [
    "sia.polarity_scores(example)"
   ]
  },
  {
   "cell_type": "code",
   "execution_count": 58,
   "id": "3412b929-8bc1-4837-bb08-de6609cd5868",
   "metadata": {},
   "outputs": [
    {
     "data": {
      "application/vnd.jupyter.widget-view+json": {
       "model_id": "e7c033a46431479eb54e1ee30707a30d",
       "version_major": 2,
       "version_minor": 0
      },
      "text/plain": [
       "  0%|          | 0/500 [00:00<?, ?it/s]"
      ]
     },
     "metadata": {},
     "output_type": "display_data"
    }
   ],
   "source": [
    "# Run the polarity score on the entire dataset\n",
    "res = {}\n",
    "for i, row in tqdm(df.iterrows(), total=len(df)):\n",
    "    tweet_text = row['tweet_text']\n",
    "    mycyberbullying_type = row['cyberbullying_type']\n",
    "    res[mycyberbullying_type] = sia.polarity_scores(tweet_text)"
   ]
  },
  {
   "cell_type": "code",
   "execution_count": 59,
   "id": "e678ffcd-3c9f-4b10-b906-f1ef52dbf7f7",
   "metadata": {},
   "outputs": [
    {
     "data": {
      "text/plain": [
       "{'not_cyberbullying': {'neg': 0.0,\n",
       "  'neu': 0.813,\n",
       "  'pos': 0.187,\n",
       "  'compound': 0.5574}}"
      ]
     },
     "execution_count": 59,
     "metadata": {},
     "output_type": "execute_result"
    }
   ],
   "source": [
    "res"
   ]
  },
  {
   "cell_type": "code",
   "execution_count": 61,
   "id": "ec2b09a2-c2d7-4fbe-8d30-7888dbefbf70",
   "metadata": {},
   "outputs": [],
   "source": [
    "vaders = pd.DataFrame(res).T\n",
    "vaders = vaders.reset_index().rename(columns={'index': 'cyberbullying_type'})\n",
    "vaders = vaders.merge(df, how='left')"
   ]
  },
  {
   "cell_type": "code",
   "execution_count": 62,
   "id": "b2fac00d-5d63-46fa-a9da-9232a5e2d1fc",
   "metadata": {},
   "outputs": [
    {
     "data": {
      "text/html": [
       "<div>\n",
       "<style scoped>\n",
       "    .dataframe tbody tr th:only-of-type {\n",
       "        vertical-align: middle;\n",
       "    }\n",
       "\n",
       "    .dataframe tbody tr th {\n",
       "        vertical-align: top;\n",
       "    }\n",
       "\n",
       "    .dataframe thead th {\n",
       "        text-align: right;\n",
       "    }\n",
       "</style>\n",
       "<table border=\"1\" class=\"dataframe\">\n",
       "  <thead>\n",
       "    <tr style=\"text-align: right;\">\n",
       "      <th></th>\n",
       "      <th>cyberbullying_type</th>\n",
       "      <th>compound</th>\n",
       "      <th>neg</th>\n",
       "      <th>neu</th>\n",
       "      <th>pos</th>\n",
       "      <th>tweet_text</th>\n",
       "    </tr>\n",
       "  </thead>\n",
       "  <tbody>\n",
       "    <tr>\n",
       "      <th>0</th>\n",
       "      <td>not_cyberbullying</td>\n",
       "      <td>0.5574</td>\n",
       "      <td>0.0</td>\n",
       "      <td>0.813</td>\n",
       "      <td>0.187</td>\n",
       "      <td>In other words #katandandre, your food was cra...</td>\n",
       "    </tr>\n",
       "    <tr>\n",
       "      <th>1</th>\n",
       "      <td>not_cyberbullying</td>\n",
       "      <td>0.5574</td>\n",
       "      <td>0.0</td>\n",
       "      <td>0.813</td>\n",
       "      <td>0.187</td>\n",
       "      <td>Why is #aussietv so white? #MKR #theblock #ImA...</td>\n",
       "    </tr>\n",
       "    <tr>\n",
       "      <th>2</th>\n",
       "      <td>not_cyberbullying</td>\n",
       "      <td>0.5574</td>\n",
       "      <td>0.0</td>\n",
       "      <td>0.813</td>\n",
       "      <td>0.187</td>\n",
       "      <td>@XochitlSuckkks a classy whore? Or more red ve...</td>\n",
       "    </tr>\n",
       "    <tr>\n",
       "      <th>3</th>\n",
       "      <td>not_cyberbullying</td>\n",
       "      <td>0.5574</td>\n",
       "      <td>0.0</td>\n",
       "      <td>0.813</td>\n",
       "      <td>0.187</td>\n",
       "      <td>@Jason_Gio meh. :P  thanks for the heads up, b...</td>\n",
       "    </tr>\n",
       "    <tr>\n",
       "      <th>4</th>\n",
       "      <td>not_cyberbullying</td>\n",
       "      <td>0.5574</td>\n",
       "      <td>0.0</td>\n",
       "      <td>0.813</td>\n",
       "      <td>0.187</td>\n",
       "      <td>@RudhoeEnglish This is an ISIS account pretend...</td>\n",
       "    </tr>\n",
       "  </tbody>\n",
       "</table>\n",
       "</div>"
      ],
      "text/plain": [
       "  cyberbullying_type  compound  neg    neu    pos  \\\n",
       "0  not_cyberbullying    0.5574  0.0  0.813  0.187   \n",
       "1  not_cyberbullying    0.5574  0.0  0.813  0.187   \n",
       "2  not_cyberbullying    0.5574  0.0  0.813  0.187   \n",
       "3  not_cyberbullying    0.5574  0.0  0.813  0.187   \n",
       "4  not_cyberbullying    0.5574  0.0  0.813  0.187   \n",
       "\n",
       "                                          tweet_text  \n",
       "0  In other words #katandandre, your food was cra...  \n",
       "1  Why is #aussietv so white? #MKR #theblock #ImA...  \n",
       "2  @XochitlSuckkks a classy whore? Or more red ve...  \n",
       "3  @Jason_Gio meh. :P  thanks for the heads up, b...  \n",
       "4  @RudhoeEnglish This is an ISIS account pretend...  "
      ]
     },
     "execution_count": 62,
     "metadata": {},
     "output_type": "execute_result"
    }
   ],
   "source": [
    "# Now we have sentiment score and metadata\n",
    "vaders.head()"
   ]
  },
  {
   "cell_type": "code",
   "execution_count": 66,
   "id": "febf508a-4d16-4c87-8ce6-86d0884a35df",
   "metadata": {},
   "outputs": [],
   "source": [
    "# Group by 'cyberbullying_type' and count the number of tweets in each category\n",
    "type_counts = vaders.groupby('cyberbullying_type')['tweet_text'].count().reset_index()\n",
    "type_counts = type_counts.rename(columns={'tweet_text': 'tweet_count'})\n"
   ]
  },
  {
   "cell_type": "code",
   "execution_count": 67,
   "id": "24cd1ea5-3bfc-428d-9a19-6e74e131ec7a",
   "metadata": {},
   "outputs": [
    {
     "data": {
      "image/png": "[encoded data removed]",
      "text/plain": [
       "<Figure size 640x480 with 1 Axes>"
      ]
     },
     "metadata": {},
     "output_type": "display_data"
    }
   ],
   "source": [
    "# Create the barplot using the counts\n",
    "ax = sns.barplot(data=type_counts, x='cyberbullying_type', y='tweet_count')\n",
    "ax.set_title('Cyberbullying Type Distribution')\n",
    "ax.set_xlabel('Cyberbullying Type')\n",
    "ax.set_ylabel('Tweet Count')\n",
    "plt.xticks(rotation=45)  # Rotate x-axis labels if needed\n",
    "plt.show()"
   ]
  },
  {
   "cell_type": "code",
   "execution_count": 69,
   "id": "08c06ab4-ccb9-44ea-a7ed-e8f87ba4dfa3",
   "metadata": {},
   "outputs": [
    {
     "data": {
      "image/png": "[encoded data removed]",
      "text/plain": [
       "<Figure size 1200x300 with 3 Axes>"
      ]
     },
     "metadata": {},
     "output_type": "display_data"
    }
   ],
   "source": [
    "fig, axs = plt.subplots(1, 3, figsize=(12, 3))\n",
    "sns.barplot(data=vaders, x='cyberbullying_type', y='pos', ax=axs[0])\n",
    "sns.barplot(data=vaders, x='cyberbullying_type', y='neu', ax=axs[1])\n",
    "sns.barplot(data=vaders, x='cyberbullying_type', y='neg', ax=axs[2])\n",
    "axs[0].set_title('Positive')\n",
    "axs[1].set_title('Neutral')\n",
    "axs[2].set_title('Negative')\n",
    "plt.tight_layout()\n",
    "plt.show()"
   ]
  },
  {
   "cell_type": "code",
   "execution_count": null,
   "id": "f9464a9b-f843-49a0-bc56-427fc6a2bbd9",
   "metadata": {},
   "outputs": [],
   "source": []
  }
 ],
 "metadata": {
  "kernelspec": {
   "display_name": "Python 3 (ipykernel)",
   "language": "python",
   "name": "python3"
  },
  "language_info": {
   "codemirror_mode": {
    "name": "ipython",
    "version": 3
   },
   "file_extension": ".py",
   "mimetype": "text/x-python",
   "name": "python",
   "nbconvert_exporter": "python",
   "pygments_lexer": "ipython3",
   "version": "3.11.7"
  }
 },
 "nbformat": 4,
 "nbformat_minor": 5
}
